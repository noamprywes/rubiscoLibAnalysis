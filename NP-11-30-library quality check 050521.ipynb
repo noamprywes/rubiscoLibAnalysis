{
 "cells": [
  {
   "cell_type": "markdown",
   "metadata": {},
   "source": [
    "This script will take files and experiments names specified in the second cell and extract a list of barcodes and their frequencies. The flanking sequence for each file will also be specificed individually. Reads where the flanking sequence isn't found will be noted as well as barcodes with N bases in them.\n",
    "\n",
    "It also produces histograms for barcodes and rarefaction curves\n"
   ]
  },
  {
   "cell_type": "code",
   "execution_count": 5,
   "metadata": {},
   "outputs": [],
   "source": [
    "import numpy as np\n",
    "import itertools\n",
    "import math\n",
    "import pandas as pd\n",
    "import time\n",
    "import Bio\n",
    "from Bio import SeqIO\n",
    "from Bio.Seq import Seq\n",
    "import matplotlib\n",
    "import matplotlib.pyplot as plt\n",
    "from ast import literal_eval\n",
    "import csv\n"
   ]
  },
  {
   "cell_type": "code",
   "execution_count": 6,
   "metadata": {},
   "outputs": [],
   "source": [
    "# This information has to be input manually\n",
    "# File names, barcode flank sequences\n",
    "\n",
    "SSFlank = 'GGTGGTGACC'\n",
    "SDFlank = 'GGTGGTGACC'\n",
    "DSFlank = 'GGGCGGCCGC'\n",
    "\n",
    "# np113001Data = '/Volumes/NP_DFS_4TB/NPDFS01/NP-11-27-21_S1_L001_R1_001.fastq'\n",
    "\n",
    "\n",
    "# listOfFiles = [np113001Data]\n",
    "listOfFileNames = ['NP_11_30_1_1']\n",
    "listOfLibTypes = ['SS']\n"
   ]
  },
  {
   "cell_type": "code",
   "execution_count": 31,
   "metadata": {
    "collapsed": true
   },
   "outputs": [
    {
     "name": "stdout",
     "output_type": "stream",
     "text": [
      "NP_11_27_21\n",
      "0\n",
      "1000000\n",
      "2000000\n",
      "NP_11_27_22\n",
      "0\n",
      "1000000\n",
      "2000000\n",
      "NP_11_27_26\n",
      "0\n",
      "1000000\n",
      "2000000\n",
      "NP_11_27_27\n",
      "0\n",
      "1000000\n",
      "2000000\n",
      "3000000\n",
      "NP_11_27_29\n",
      "0\n",
      "1000000\n",
      "2000000\n",
      "NP_11_27_30\n",
      "0\n",
      "1000000\n",
      "2000000\n"
     ]
    }
   ],
   "source": [
    "# Parse and extract barcode, make csv files for each one\n",
    "\n",
    "# def parseAndExtractBC(file, libtype):\n",
    "#     BCFlank = ''\n",
    "#     if libtype == 'SS':\n",
    "#         BCFlank = SSFlank\n",
    "#     if libtype == 'SD':\n",
    "#         BCFlank = SDFlank\n",
    "#     if libtype == 'DS':\n",
    "#         BCFlank = DSFlank\n",
    "#     parsedFile = SeqIO.parse(file, \"fastq\")\n",
    "#     BClist = []\n",
    "    \n",
    "#     for readCount, rec in enumerate(parsedFile):\n",
    "#         if readCount % 1000000 == 0:\n",
    "#             print(readCount)\n",
    "#         readSeq = str(rec.seq)\n",
    "#         BCloc = readSeq.find(BCFlank)\n",
    "#         if BCloc == -1:\n",
    "#             BClist.append('No flank found')\n",
    "#         else:\n",
    "#             BC = readSeq[BCloc + len(BCFlank):BCloc + len(BCFlank) + 15]\n",
    "#             if 'N' in BC:\n",
    "#                 BClist.append('BC has Ns')\n",
    "#             else:\n",
    "#                 BClist.append(BC)\n",
    "#     return BClist\n",
    "\n",
    "# for i, file in enumerate(listOfFiles):\n",
    "#     print(listOfFileNames[i])\n",
    "#     dfBClist = pd.DataFrame(parseAndExtractBC(file, listOfLibTypes[i]), columns = [listOfFileNames[i]])\n",
    "#     dfBClist.to_csv('/Volumes/NP_DFS_4TB/NPDFS01/' + listOfFileNames[i] + '_BClist.csv')\n",
    "\n"
   ]
  },
  {
   "cell_type": "code",
   "execution_count": 3,
   "metadata": {
    "collapsed": true
   },
   "outputs": [
    {
     "ename": "NameError",
     "evalue": "name 'listOfFiles' is not defined",
     "output_type": "error",
     "traceback": [
      "\u001b[0;31m---------------------------------------------------------------------------\u001b[0m",
      "\u001b[0;31mNameError\u001b[0m                                 Traceback (most recent call last)",
      "\u001b[0;32m<ipython-input-3-c33e25ed0585>\u001b[0m in \u001b[0;36m<module>\u001b[0;34m\u001b[0m\n\u001b[1;32m      1\u001b[0m \u001b[0;31m# Collapse down to smaller list with reads per barcode measured\u001b[0m\u001b[0;34m\u001b[0m\u001b[0;34m\u001b[0m\u001b[0;34m\u001b[0m\u001b[0m\n\u001b[1;32m      2\u001b[0m \u001b[0;34m\u001b[0m\u001b[0m\n\u001b[0;32m----> 3\u001b[0;31m \u001b[0;32mfor\u001b[0m \u001b[0mi\u001b[0m\u001b[0;34m,\u001b[0m \u001b[0mfile\u001b[0m \u001b[0;32min\u001b[0m \u001b[0menumerate\u001b[0m\u001b[0;34m(\u001b[0m\u001b[0mlistOfFiles\u001b[0m\u001b[0;34m)\u001b[0m\u001b[0;34m:\u001b[0m\u001b[0;34m\u001b[0m\u001b[0;34m\u001b[0m\u001b[0m\n\u001b[0m\u001b[1;32m      4\u001b[0m     \u001b[0mdfBCs\u001b[0m \u001b[0;34m=\u001b[0m \u001b[0mpd\u001b[0m\u001b[0;34m.\u001b[0m\u001b[0mread_csv\u001b[0m\u001b[0;34m(\u001b[0m\u001b[0mlistOfFileNames\u001b[0m\u001b[0;34m[\u001b[0m\u001b[0mi\u001b[0m\u001b[0;34m]\u001b[0m \u001b[0;34m+\u001b[0m \u001b[0;34m'_BClist.csv'\u001b[0m\u001b[0;34m)\u001b[0m\u001b[0;34m\u001b[0m\u001b[0;34m\u001b[0m\u001b[0m\n\u001b[1;32m      5\u001b[0m     \u001b[0mdfBCCounts\u001b[0m \u001b[0;34m=\u001b[0m \u001b[0mdfBCs\u001b[0m\u001b[0;34m[\u001b[0m\u001b[0mlistOfFileNames\u001b[0m\u001b[0;34m[\u001b[0m\u001b[0mi\u001b[0m\u001b[0;34m]\u001b[0m\u001b[0;34m]\u001b[0m\u001b[0;34m.\u001b[0m\u001b[0mvalue_counts\u001b[0m\u001b[0;34m(\u001b[0m\u001b[0;34m)\u001b[0m\u001b[0;34m\u001b[0m\u001b[0;34m\u001b[0m\u001b[0m\n",
      "\u001b[0;31mNameError\u001b[0m: name 'listOfFiles' is not defined"
     ]
    }
   ],
   "source": [
    "# Collapse down to smaller list with reads per barcode measured\n",
    "\n",
    "# for i, file in enumerate(listOfFiles):\n",
    "#     dfBCs = pd.read_csv(listOfFileNames[i] + '_BClist.csv')\n",
    "#     dfBCCounts = dfBCs[listOfFileNames[i]].value_counts()\n",
    "#     dfBCCounts.to_csv(listOfFileNames[i] + '_BCCounts.csv')"
   ]
  },
  {
   "cell_type": "code",
   "execution_count": 9,
   "metadata": {},
   "outputs": [
    {
     "data": {
      "image/png": "[encoded data removed]",
      "text/plain": [
       "<Figure size 504x504 with 1 Axes>"
      ]
     },
     "metadata": {
      "needs_background": "light"
     },
     "output_type": "display_data"
    }
   ],
   "source": [
    "# What I really want is a graph where I multiply by the number of barcodes again \n",
    "# The y-axis should be \"reads of BCs with that many reads\"\n",
    "# Multiply each bin by its x-axis value\n",
    "# I had to move the values over by one to handle indexes and I had to trim a value from the x-axis values\n",
    "\n",
    "# Ideally, the total # of reads divided by the maximum of this curve will be the library complexity\n",
    "#  This approximation will likely improve if we exclude single-read barcodes\n",
    "\n",
    "\n",
    "histData = []\n",
    "\n",
    "for i, experiment in enumerate(listOfFileNames):\n",
    "    dfData = pd.read_csv(listOfFileNames[i] + '_BCCounts.csv')\n",
    "    data = np.histogram(dfData[listOfFileNames[i]], \\\n",
    "                 bins = range(0,200,1))\n",
    "    histData.append(data)\n",
    "\n",
    "for i, experiment in enumerate(listOfFileNames):\n",
    "    xVals = histData[0][1][1:]\n",
    "    yVals = histData[i][0]\n",
    "    corrYVals = []\n",
    "    for j, count in enumerate(yVals):\n",
    "        corrYVals.append(count * (xVals[j] - 1))\n",
    "    plt.step(xVals, corrYVals, label = listOfFileNames[i], linewidth = 1)\n",
    "\n",
    "plt.yscale(\"log\")\n",
    "plt.legend()\n",
    "plt.title('BC read distribuition')\n",
    "plt.ylabel('Reads of BCs with that many reads')\n",
    "plt.xlabel('BC reads')\n",
    "plt.yscale('log')\n",
    "plt.tight_layout()\n",
    "plt.rcParams[\"figure.figsize\"] = (7,7)\n",
    "\n",
    "plt.savefig('NP_11_27_barcodesHist.pdf')\n"
   ]
  },
  {
   "cell_type": "code",
   "execution_count": 12,
   "metadata": {},
   "outputs": [
    {
     "data": {
      "text/html": [
       "<div>\n",
       "<style scoped>\n",
       "    .dataframe tbody tr th:only-of-type {\n",
       "        vertical-align: middle;\n",
       "    }\n",
       "\n",
       "    .dataframe tbody tr th {\n",
       "        vertical-align: top;\n",
       "    }\n",
       "\n",
       "    .dataframe thead th {\n",
       "        text-align: right;\n",
       "    }\n",
       "</style>\n",
       "<table border=\"1\" class=\"dataframe\">\n",
       "  <thead>\n",
       "    <tr style=\"text-align: right;\">\n",
       "      <th></th>\n",
       "      <th>Unnamed: 0</th>\n",
       "      <th>NP_11_30_1_1</th>\n",
       "    </tr>\n",
       "  </thead>\n",
       "  <tbody>\n",
       "    <tr>\n",
       "      <th>0</th>\n",
       "      <td>No flank found</td>\n",
       "      <td>62530</td>\n",
       "    </tr>\n",
       "    <tr>\n",
       "      <th>1</th>\n",
       "      <td>CATAGAATGCACTTC</td>\n",
       "      <td>1010</td>\n",
       "    </tr>\n",
       "    <tr>\n",
       "      <th>2</th>\n",
       "      <td>TGCGTTAGGCCTCGC</td>\n",
       "      <td>981</td>\n",
       "    </tr>\n",
       "    <tr>\n",
       "      <th>3</th>\n",
       "      <td>CATTGCAGCAAGAGT</td>\n",
       "      <td>694</td>\n",
       "    </tr>\n",
       "    <tr>\n",
       "      <th>4</th>\n",
       "      <td>GCGGGCACGGAGGCC</td>\n",
       "      <td>679</td>\n",
       "    </tr>\n",
       "    <tr>\n",
       "      <th>...</th>\n",
       "      <td>...</td>\n",
       "      <td>...</td>\n",
       "    </tr>\n",
       "    <tr>\n",
       "      <th>206292</th>\n",
       "      <td>AAGAACAGTACTAAA</td>\n",
       "      <td>1</td>\n",
       "    </tr>\n",
       "    <tr>\n",
       "      <th>206293</th>\n",
       "      <td>AGTCGTTGGGTTTGA</td>\n",
       "      <td>1</td>\n",
       "    </tr>\n",
       "    <tr>\n",
       "      <th>206294</th>\n",
       "      <td>GTATATGATCTCGAT</td>\n",
       "      <td>1</td>\n",
       "    </tr>\n",
       "    <tr>\n",
       "      <th>206295</th>\n",
       "      <td>TAATCTGTTAGTGTC</td>\n",
       "      <td>1</td>\n",
       "    </tr>\n",
       "    <tr>\n",
       "      <th>206296</th>\n",
       "      <td>TATGGGGGTCCAAGG</td>\n",
       "      <td>1</td>\n",
       "    </tr>\n",
       "  </tbody>\n",
       "</table>\n",
       "<p>206297 rows × 2 columns</p>\n",
       "</div>"
      ],
      "text/plain": [
       "             Unnamed: 0  NP_11_30_1_1\n",
       "0        No flank found         62530\n",
       "1       CATAGAATGCACTTC          1010\n",
       "2       TGCGTTAGGCCTCGC           981\n",
       "3       CATTGCAGCAAGAGT           694\n",
       "4       GCGGGCACGGAGGCC           679\n",
       "...                 ...           ...\n",
       "206292  AAGAACAGTACTAAA             1\n",
       "206293  AGTCGTTGGGTTTGA             1\n",
       "206294  GTATATGATCTCGAT             1\n",
       "206295  TAATCTGTTAGTGTC             1\n",
       "206296  TATGGGGGTCCAAGG             1\n",
       "\n",
       "[206297 rows x 2 columns]"
      ]
     },
     "execution_count": 12,
     "metadata": {},
     "output_type": "execute_result"
    }
   ],
   "source": [
    "counts"
   ]
  },
  {
   "cell_type": "code",
   "execution_count": 39,
   "metadata": {},
   "outputs": [],
   "source": [
    "# Filter out barcodes with just one read\n",
    "# Figure out how many reads had no flank or had N's in them\n",
    "# Also figure out how many barcodes have just one read\n",
    "# Make stacked plot\n",
    "\n",
    "readFilterData = {}\n",
    "\n",
    "for label in listOfFileNames:\n",
    "    readFilterData[label] = {'No flank found' : [], \\\n",
    "                             'BC has Ns' : [], \\\n",
    "                             'Singleton BC' : [], \\\n",
    "                             'Filtered BCs' : []}\n",
    "\n",
    "for i, experiment in enumerate(listOfFileNames):\n",
    "    counts = pd.read_csv(experiment + '_BCCounts.csv', index_col = 0)\n",
    "    readFilterData[experiment]['Singleton BC'] = counts[counts[experiment] == 1][experiment].sum()\n",
    "    readFilterData[experiment]['No flank found'] = counts[counts.index == 'No flank found'][experiment].sum()\n",
    "    readFilterData[experiment]['BC has Ns'] = counts[counts.index == 'BC has Ns'][listOfFileNames[i]].sum()\n",
    "    readFilterData[experiment]['Filtered BCs'] = counts[(counts[experiment] > 1) & \n",
    "                                                        (counts[experiment] != 'No flank found') & \\\n",
    "                                                       (counts[experiment] != 'BC has Ns')][experiment].sum()\n",
    "    \n",
    "\n"
   ]
  },
  {
   "cell_type": "code",
   "execution_count": 40,
   "metadata": {},
   "outputs": [
    {
     "data": {
      "text/plain": [
       "{'NP_11_30_1_1': {'No flank found': 62530,\n",
       "  'BC has Ns': 217,\n",
       "  'Singleton BC': 66858,\n",
       "  'Filtered BCs': 4955920}}"
      ]
     },
     "execution_count": 40,
     "metadata": {},
     "output_type": "execute_result"
    }
   ],
   "source": [
    "readFilterData"
   ]
  },
  {
   "cell_type": "code",
   "execution_count": 41,
   "metadata": {},
   "outputs": [
    {
     "data": {
      "text/html": [
       "<div>\n",
       "<style scoped>\n",
       "    .dataframe tbody tr th:only-of-type {\n",
       "        vertical-align: middle;\n",
       "    }\n",
       "\n",
       "    .dataframe tbody tr th {\n",
       "        vertical-align: top;\n",
       "    }\n",
       "\n",
       "    .dataframe thead th {\n",
       "        text-align: right;\n",
       "    }\n",
       "</style>\n",
       "<table border=\"1\" class=\"dataframe\">\n",
       "  <thead>\n",
       "    <tr style=\"text-align: right;\">\n",
       "      <th></th>\n",
       "      <th>BC has Ns</th>\n",
       "      <th>Filtered BCs</th>\n",
       "      <th>No flank found</th>\n",
       "      <th>Singleton BC</th>\n",
       "    </tr>\n",
       "  </thead>\n",
       "  <tbody>\n",
       "    <tr>\n",
       "      <th>NP_11_30_1_1</th>\n",
       "      <td>217</td>\n",
       "      <td>4955920</td>\n",
       "      <td>62530</td>\n",
       "      <td>66858</td>\n",
       "    </tr>\n",
       "  </tbody>\n",
       "</table>\n",
       "</div>"
      ],
      "text/plain": [
       "              BC has Ns  Filtered BCs  No flank found  Singleton BC\n",
       "NP_11_30_1_1        217       4955920           62530         66858"
      ]
     },
     "execution_count": 41,
     "metadata": {},
     "output_type": "execute_result"
    }
   ],
   "source": [
    "dfStackedPlot = pd.DataFrame(readFilterData).transpose()\n",
    "dfStackedPlot"
   ]
  },
  {
   "cell_type": "code",
   "execution_count": 42,
   "metadata": {},
   "outputs": [
    {
     "data": {
      "image/png": "[encoded data removed]",
      "text/plain": [
       "<Figure size 504x504 with 1 Axes>"
      ]
     },
     "metadata": {
      "needs_background": "light"
     },
     "output_type": "display_data"
    }
   ],
   "source": [
    "# Plot the data\n",
    "\n",
    "dfStackedPlot = pd.DataFrame(readFilterData).transpose()\n",
    "\n",
    "dfStackedPlot.plot(kind=\"bar\", stacked=True)\n",
    "plt.ylabel('BC reads')\n",
    "\n",
    "plt.savefig('NP_11_30_readsSummary.pdf')\n"
   ]
  },
  {
   "cell_type": "code",
   "execution_count": 36,
   "metadata": {
    "collapsed": true
   },
   "outputs": [
    {
     "name": "stdout",
     "output_type": "stream",
     "text": [
      "0.0% done\n",
      "11.2% done\n",
      "22.5% done\n",
      "33.8% done\n",
      "45.0% done\n",
      "56.3% done\n",
      "67.6% done\n",
      "78.9% done\n",
      "90.1% done\n",
      "0.0% done\n",
      "12.5% done\n",
      "25.0% done\n",
      "37.5% done\n",
      "50.0% done\n",
      "62.5% done\n",
      "75.0% done\n",
      "87.5% done\n",
      "0.0% done\n",
      "10.0% done\n",
      "20.0% done\n",
      "30.0% done\n",
      "40.0% done\n",
      "50.0% done\n",
      "60.1% done\n",
      "70.1% done\n",
      "80.1% done\n",
      "90.1% done\n",
      "0.0% done\n",
      "8.60% done\n",
      "17.2% done\n",
      "25.8% done\n",
      "34.4% done\n",
      "43.0% done\n",
      "51.6% done\n",
      "60.2% done\n",
      "68.8% done\n",
      "77.4% done\n",
      "86.0% done\n",
      "94.6% done\n",
      "0.0% done\n",
      "11.0% done\n",
      "22.0% done\n",
      "33.0% done\n",
      "44.0% done\n",
      "55.0% done\n",
      "66.0% done\n",
      "77.0% done\n",
      "88.0% done\n",
      "99.1% done\n",
      "0.0% done\n",
      "10.7% done\n",
      "21.4% done\n",
      "32.2% done\n",
      "42.9% done\n",
      "53.6% done\n",
      "64.4% done\n",
      "75.1% done\n",
      "85.8% done\n",
      "96.6% done\n"
     ]
    }
   ],
   "source": [
    "# Make one set of all barcodes, make a second set that only considers barcodes seen more than once\n",
    "\n",
    "n = [10, 30, 100, 300, 1000, 3000, 10000, 30000]\n",
    "howOftenToSample = 100000\n",
    "rarefactionData = {}\n",
    "rarefactionDataFiltered = {}\n",
    "\n",
    "for label in listOfFileNames:\n",
    "    rarefactionData[label] = []\n",
    "    rarefactionDataFiltered[label] = []\n",
    "\n",
    "for i, experiment in enumerate(listOfFileNames):\n",
    "    readsDF = pd.read_csv('/Volumes/NP_DFS_4TB/NPDFS01/' + listOfFileNames[i] + '_BClist.csv')\n",
    "    counts = readsDF[experiment].value_counts()\n",
    "    filteredCounts = counts[counts > 1]\n",
    "    # sort_index() ensures that the barcodes aren't reordered\n",
    "    filteredReadsDF = readsDF.merge(pd.DataFrame(filteredCounts), left_on = experiment, right_index = True).sort_index()\n",
    "    for read in range(len(readsDF)):\n",
    "        if read%300000 == 0:\n",
    "            print(str((100 * read)/len(readsDF[experiment]))[:4] + '% done')\n",
    "        if ((read % howOftenToSample) == 0 or (read in n)):\n",
    "            unfilteredBCsUpToRead = readsDF[experiment][:read]\n",
    "            rarefactionData[experiment].append([unfilteredBCsUpToRead.count(), unfilteredBCsUpToRead.nunique()])\n",
    "            filteredBCsUpToRead = filteredReadsDF[experiment][:read]\n",
    "            rarefactionDataFiltered[experiment].append([filteredBCsUpToRead.count(), filteredBCsUpToRead.nunique()])\n",
    "\n",
    "# Transpose data\n",
    "\n",
    "rarefactionDataTransposedUnfiltered = {}\n",
    "rarefactionDataTransposedFiltered = {}\n",
    "# Transpose values\n",
    "for label in listOfFileNames:\n",
    "    BCcounts, unique_BCs = list(map(list, zip(*rarefactionData[label])))\n",
    "    rarefactionDataTransposedUnfiltered[label] = BCcounts, unique_BCs\n",
    "    BCcounts, unique_BCs = list(map(list, zip(*rarefactionDataFiltered[label])))\n",
    "    rarefactionDataTransposedFiltered[label] = BCcounts, unique_BCs\n",
    "\n"
   ]
  },
  {
   "cell_type": "code",
   "execution_count": 37,
   "metadata": {},
   "outputs": [
    {
     "data": {
      "image/png": "[encoded data removed]",
      "text/plain": [
       "<Figure size 504x504 with 1 Axes>"
      ]
     },
     "metadata": {},
     "output_type": "display_data"
    }
   ],
   "source": [
    "# Plot curves\n",
    "\n",
    "for label in listOfFileNames:\n",
    "    plt.scatter(rarefactionDataTransposedUnfiltered[label][0], rarefactionDataTransposedUnfiltered[label][1])\n",
    "\n",
    "plt.legend(listOfFileNames, bbox_to_anchor=(1.05, 1), loc='upper left')\n",
    "\n",
    "plt.title('Barcode subsampling')\n",
    "plt.xlabel('Barcodes in subsample')\n",
    "plt.ylabel('Unique barcodes in subsample')\n",
    "\n",
    "plt.tight_layout()\n",
    "\n",
    "plt.savefig('NP_11_27_rarefaction.pdf')\n",
    "\n",
    "    "
   ]
  },
  {
   "cell_type": "code",
   "execution_count": 38,
   "metadata": {},
   "outputs": [
    {
     "data": {
      "image/png": "[encoded data removed]",
      "text/plain": [
       "<Figure size 504x504 with 1 Axes>"
      ]
     },
     "metadata": {},
     "output_type": "display_data"
    }
   ],
   "source": [
    "# Plot filtered curves\n",
    "\n",
    "for label in listOfFileNames:\n",
    "    plt.scatter(rarefactionDataTransposedFiltered[label][0], rarefactionDataTransposedFiltered[label][1])\n",
    "\n",
    "plt.legend(listOfFileNames, bbox_to_anchor=(1.05, 1), loc='upper left')\n",
    "\n",
    "plt.title('Barcode subsampling')\n",
    "plt.xlabel('Barcodes in subsample')\n",
    "plt.ylabel('Unique barcodes in subsample')\n",
    "\n",
    "plt.tight_layout()\n",
    "\n",
    "plt.savefig('NP_11_27_rarefactionFiltered.pdf')"
   ]
  },
  {
   "cell_type": "code",
   "execution_count": 39,
   "metadata": {},
   "outputs": [
    {
     "name": "stdout",
     "output_type": "stream",
     "text": [
      "now = 2021-04-07 16:59:32.594332\n"
     ]
    }
   ],
   "source": [
    "from datetime import datetime\n",
    "\n",
    "# datetime object containing current date and time\n",
    "now = datetime.now()\n",
    " \n",
    "print(\"now =\", now)"
   ]
  },
  {
   "cell_type": "code",
   "execution_count": null,
   "metadata": {},
   "outputs": [],
   "source": []
  }
 ],
 "metadata": {
  "kernelspec": {
   "display_name": "Python 3",
   "language": "python",
   "name": "python3"
  },
  "language_info": {
   "codemirror_mode": {
    "name": "ipython",
    "version": 3
   },
   "file_extension": ".py",
   "mimetype": "text/x-python",
   "name": "python",
   "nbconvert_exporter": "python",
   "pygments_lexer": "ipython3",
   "version": "3.8.5"
  }
 },
 "nbformat": 4,
 "nbformat_minor": 2
}
