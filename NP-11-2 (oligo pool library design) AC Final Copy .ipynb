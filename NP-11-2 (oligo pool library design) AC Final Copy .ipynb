{
 "cells": [
  {
   "cell_type": "code",
   "execution_count": 1,
   "metadata": {
    "scrolled": true
   },
   "outputs": [
    {
     "data": {
      "text/plain": [
       "'ATGCAGGCCGCGGTCTCA'"
      ]
     },
     "execution_count": 1,
     "metadata": {},
     "output_type": "execute_result"
    }
   ],
   "source": [
    "#this is codon optimized, last 2 codons removed\n",
    "RrDNAseq = 'ATGGACCAGAGTTCTCGCTATGTCAATCTTGCTTTGAAAGAAGAGGACTTAATTGCCGGAGGCGAACACGTATTGTGCGCCTATATTATGAAACCAAAAGCTGGGTACGGTTACGTTGCCACCGCAGCGCACTTTGCTGCAGAGAGTTCGACTGGAACAAATGTAGAGGTGTGTACCACTGATGATTTTACTCGTGGCGTGGATGCCTTAGTTTACGAAGTAGATGAGGCCCGCGAGCTTACTAAGATTGCCTACCCAGTAGCACTGTTCGATCGTAATATCACGGATGGAAAAGCTATGATCGCATCATTTCTTACATTGACCATGGGCAATAATCAAGGCATGGGTGACGTAGAATATGCCAAAATGCATGACTTCTATGTGCCTGAAGCGTATCGCGCTCTGTTTGATGGCCCTTCTGTAAATATTTCCGCCTTGTGGAAGGTACTGGGTCGTCCGGAGGTTGATGGAGGCTTAGTTGTCGGTACTATCATTAAACCAAAGCTTGGGCTGCGCCCTAAGCCTTTCGCTGAGGCTTGCCACGCATTTTGGTTAGGTGGTGATTTTATTAAAAATGATGAACCGCAAGGGAACCAACCCTTCGCGCCACTTCGCGACACGATCGCCTTGGTTGCAGATGCGATGCGCCGTGCACAGGACGAAACGGGTGAAGCAAAGTTGTTTAGTGCTAATATCACCGCTGATGACCCGTTTGAAATCATCGCCCGCGGGGAATACGTTCTTGAAACATTCGGTGAAAATGCAAGTCACGTTGCCTTATTAGTAGACGGATACGTAGCCGGCGCAGCTGCTATTACGACCGCTCGTCGCCGTTTCCCCGATAATTTCTTGCATTATCATCGCGCCGGGCATGGAGCGGTCACTAGCCCTCAGTCTAAGCGCGGCTATACTGCTTTTGTGCATTGTAAGATGGCTCGTTTGCAAGGTGCGTCGGGTATCCATACCGGAACTATGGGCTTTGGAAAGATGGAAGGGGAGTCCTCAGATCGTGCCATCGCGTATATGTTAACTCAAGATGAAGCACAAGGCCCCTTTTATCGCCAGTCGTGGGGAGGGATGAAGGCCTGCACCCCTATTATTTCTGGCGGAATGAATGCCTTACGCATGCCCGGCTTCTTCGAAAATCTTGGTAATGCGAATGTCATCCTGACTGCTGGTGGCGGTGCTTTCGGCCATATTGACGGCCCTGTGGCCGGCGCTCGTTCTCTTCGCCAAGCTTGGCAGGCGTGGCGCGATGGCGTCCCTGTGCTTGACTACGCCCGCGAGCATAAGGAGTTGGCACGTGCTTTTGAGTCCTTCCCTGGCGACGCTGACCAGATTTATCCAGGTTGGCGTAAGGCGCTTGGAGTGGAGGATACTCGTTCAGCTTTA'\n",
    "#last two AAs removed\n",
    "RrProteinSeq = 'MDQSSRYVNLALKEEDLIAGGEHVLCAYIMKPKAGYGYVATAAHFAAESSTGTNVEVCTTDDFTRGVDALVYEVDEARELTKIAYPVALFDRNITDGKAMIASFLTLTMGNNQGMGDVEYAKMHDFYVPEAYRALFDGPSVNISALWKVLGRPEVDGGLVVGTIIKPKLGLRPKPFAEACHAFWLGGDFIKNDEPQGNQPFAPLRDTIALVADAMRRAQDETGEAKLFSANITADDPFEIIARGEYVLETFGENASHVALLVDGYVAGAAAITTARRRFPDNFLHYHRAGHGAVTSPQSKRGYTAFVHCKMARLQGASGIHTGTMGFGKMEGESSDRAIAYMLTQDEAQGPFYRQSWGGMKACTPIISGGMNALRMPGFFENLGNANVILTAGGGAFGHIDGPVAGARSLRQAWQAWRDGVPVLDYAREHKELARAFESFPGDADQIYPGWRKALGVEDTRSAL'\n",
    "\n",
    "RrDNAseqList = list(RrDNAseq)\n",
    "\n",
    "codonTable_mostcommon_noStops = {\n",
    "    'r':'CGT',\n",
    "    'h':'CAT',\n",
    "    'k':'AAA',\n",
    "    'd':'GAT',\n",
    "    'e':'GAA',\n",
    "    's':'AGC',\n",
    "    't':'ACC',\n",
    "    'n':'AAT',\n",
    "    'q':'CAG',\n",
    "    'c':'TGC',\n",
    "    'g':'GGC',\n",
    "    'p':'CCG',\n",
    "    'a':'GCG',\n",
    "    'v':'GTG',\n",
    "    'i':'ATT',\n",
    "    'l':'CTG',\n",
    "    'm':'ATG',\n",
    "    'f':'TTT',\n",
    "    'y':'TAT',\n",
    "    'w':'TGG'\n",
    "    }\n",
    "\n",
    "chunkflank={\n",
    "    'chunk 1f':'ATGCGCAGCCGGTCTCA',\n",
    "    'chunk 1r':'AGAGACCCTGAGTGCCGAT',   \n",
    "    'chunk 2f':'ATGCAGGCCGCGGTCTCA',\n",
    "    'chunk 2r':'AGAGACCCATGGCTCGGCAT',\n",
    "    'chunk 3f':'ATCTGCCAGCACGGTCTCA',\n",
    "    'chunk 3r':'AGAGACCCTCGTGCGCTT',  \n",
    "    'chunk 4f':'AAGCATGCATGCGGTCTCA',   \n",
    "    'chunk 4r':'AGAGACCCGTCGCTGCGAT', \n",
    "    'chunk 5f':'TTGCGCAGCACTCGGTCTCA',   \n",
    "    'chunk 5r':'AGAGACCCGAGGATAGCGCTA', \n",
    "    'chunk 6f':'TACGATCCAACACGGTCTCA',   \n",
    "    'chunk 6r':'AGAGACCCTGGCGGACGGCTT',\n",
    "    'chunk 7f':'TACGTACGCGCACGGTCTCA',\n",
    "    'chunk 7r':'AGAGACCCGAGGCGTCGTT', \n",
    "    'chunk 8f':'AAGCGCGGACGGTCTCA',    \n",
    "    'chunk 8r':'AGAGACCCGCGTGATGCGAT',\n",
    "    'chunk 9f':'ATGCAGCGCACCGGTCTCA',\n",
    "    'chunk 9r':'AGAGACCCGAGATGCGTCGCAT',\n",
    "    'chunk 10f':'ATGCCAGGACGCGGTCTCA',\n",
    "    'chunk 10r':'AGAGACCCGGTGCGCAT',   \n",
    "    'chunk 11f':'ATGCGCCATCGCGGTCTCA',  \n",
    "    'chunk 11r':'AGAGACCCTGCGTCGACGCTT', \n",
    "    \n",
    "}\n",
    "\n",
    "chunkflank\n",
    "\n",
    "chunkflanklist=['ATGCGCAGCCGGTCTCA',\n",
    "'AGAGACCCTGAGTGCCGAT',\n",
    "'ATGCAGGCCGCGGTCTCA',\n",
    "'AGAGACCCATGGCTCGGCAT',\n",
    "'ATCTGCCAGCACGGTCTCA',\n",
    "'AGAGACCCTCGTGCGCTT',\n",
    "'AAGCATGCATGCGGTCTCA',\n",
    "'AGAGACCCGTCGCTGCGAT',\n",
    "'TTGCGCAGCACTCGGTCTCA',\n",
    "'AGAGACCCGAGGATAGCGCTA',\n",
    "'TACGATCCAACACGGTCTCA',\n",
    "'AGAGACCCTGGCGGACGGCTT',\n",
    "'TACGTACGCGCACGGTCTCA',\n",
    "'AGAGACCCGAGGCGTCGTT',\n",
    "'AAGCGCGGACGGTCTCA',\n",
    "'AGAGACCCGCGTGATGCGAT',\n",
    "'ATGCAGCGCACCGGTCTCA',\n",
    "'AGAGACCCGAGATGCGTCGCAT',\n",
    "'ATGCCAGGACGCGGTCTCA',\n",
    "'AGAGACCCGGTGCGCAT',\n",
    "'ATGCGCCATCGCGGTCTCA',\n",
    "'AGAGACCCTGCGTCGACGCTT',]\n",
    "\n",
    "chunkflanklist[2]\n",
    "\n"
   ]
  },
  {
   "cell_type": "code",
   "execution_count": 5,
   "metadata": {},
   "outputs": [
    {
     "name": "stdout",
     "output_type": "stream",
     "text": [
      "8778\n"
     ]
    }
   ],
   "source": [
    "filename = 'WTrbcRrDMSoligos09192019.txt'\n",
    "fh = open(filename, 'w')\n",
    "MutDNA = []\n",
    "ListOfDNASeq = list(RrDNAseq.upper())\n",
    "ListOfProteinSeq = list(RrProteinSeq.lower())\n",
    "ListOfChunkMutDNA = ListOfDNASeq\n",
    "numberOfMutants = 0\n",
    "ChunkDNAList = []\n",
    "leaderDNA = []\n",
    "footerDNA = []\n",
    "leftflankseq = ' C GGTCTC A '\n",
    "rightflankseq = ' A GAGACC C '\n",
    "chunksize = 129\n",
    "\n",
    "for chunkPosition in range(int(len(ListOfDNASeq)/chunksize)+1):\n",
    "    chunkstartDNA = chunksize * chunkPosition + 6\n",
    "    chunkendDNA = chunksize * chunkPosition + chunksize + 6\n",
    "    chunkstartAA = int(chunksize/3 * chunkPosition + 2)\n",
    "    chunkendAA = int(chunksize/3 * chunkPosition + chunksize/3 + 2)\n",
    "    ChunkDNAList = ListOfDNASeq[chunkstartDNA:chunkendDNA]\n",
    "    ChunkDNAListMut = ChunkDNAList\n",
    "    ChunkAAList = ListOfProteinSeq[chunkstartAA:chunkendAA]\n",
    "    leftflankHomology = RrDNAseq[chunkstartDNA - 6:chunkstartDNA].upper()\n",
    "    if chunkPosition < 10:\n",
    "        rightflankHomology = RrDNAseq[chunkendDNA:chunkendDNA + 6].upper()\n",
    "    if chunkPosition == 10:\n",
    "        rightflankHomology = 'CCTGCG'\n",
    "    for position in range(len(ChunkAAList)):\n",
    "            for aminoAcid in codonTable_mostcommon_noStops:\n",
    "                if ChunkAAList[position] != aminoAcid:\n",
    "                    ChunkDNAListMut[3 * position] = codonTable_mostcommon_noStops[aminoAcid]\n",
    "                    ChunkDNAListMut[3 * position + 1] = ''\n",
    "                    ChunkDNAListMut[3 * position + 2] = ''\n",
    "                    MutDNA = ''.join(ChunkDNAListMut)\n",
    "                    fh.write(chunkflanklist[2*chunkPosition] + ' ' + leftflankHomology + ' ' + MutDNA + ' ' + rightflankHomology + ' ' + chunkflanklist[2*chunkPosition+1] + '\\n')\n",
    "                    numberOfMutants = numberOfMutants + 1\n",
    "                    MutDNA = ''.join(ListOfDNASeq[chunkstartDNA:chunkendDNA])\n",
    "                    ChunkDNAListMut = ListOfDNASeq[chunkstartDNA:chunkendDNA]\n",
    "                \n",
    "print(numberOfMutants)\n",
    "    \n",
    "fh.close()\n"
   ]
  },
  {
   "cell_type": "code",
   "execution_count": null,
   "metadata": {},
   "outputs": [],
   "source": []
  },
  {
   "cell_type": "code",
   "execution_count": null,
   "metadata": {},
   "outputs": [],
   "source": []
  }
 ],
 "metadata": {
  "kernelspec": {
   "display_name": "Python 3",
   "language": "python",
   "name": "python3"
  },
  "language_info": {
   "codemirror_mode": {
    "name": "ipython",
    "version": 3
   },
   "file_extension": ".py",
   "mimetype": "text/x-python",
   "name": "python",
   "nbconvert_exporter": "python",
   "pygments_lexer": "ipython3",
   "version": "3.7.7"
  }
 },
 "nbformat": 4,
 "nbformat_minor": 2
}
