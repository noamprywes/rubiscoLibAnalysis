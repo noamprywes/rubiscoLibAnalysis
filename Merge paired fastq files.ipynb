{
 "cells": [
  {
   "cell_type": "code",
   "execution_count": 1,
   "metadata": {},
   "outputs": [],
   "source": [
    "#This takes two files with paired reads and makes one file where the reads go one after the other\n",
    "#stolen from (http://bytesizebio.net/2011/11/10/short-bioinformatics-hacks-reading-mate-pairs-from-a-fastq-file/)\n",
    "\n",
    "from Bio import SeqIO\n",
    "import itertools\n",
    "import sys\n",
    "import os\n",
    "def merge_fastq(fastq_path1, fastq_path2, outpath):\n",
    "    outfile = open(outpath,\"w\")\n",
    "    fastq_iter1 = SeqIO.parse(open(fastq_path1),\"fastq\")\n",
    "    fastq_iter2 = SeqIO.parse(open(fastq_path2),\"fastq\")\n",
    "    for rec1, rec2 in itertools.zip_longest(fastq_iter1, fastq_iter2):\n",
    "        SeqIO.write([rec1,rec2], outfile, \"fastq\")\n",
    "    outfile.close()\n",
    "\n",
    "# Put files to be merged here and the output filename    \n",
    "merge_fastq('NP-11-19-6_S3_L001_R1_001.fastq', 'NP-11-19-6_S3_L001_R2_001.fastq', 'NP-11-19-6-merged.fastq')"
   ]
  },
  {
   "cell_type": "code",
   "execution_count": null,
   "metadata": {},
   "outputs": [],
   "source": []
  }
 ],
 "metadata": {
  "kernelspec": {
   "display_name": "Python 3",
   "language": "python",
   "name": "python3"
  },
  "language_info": {
   "codemirror_mode": {
    "name": "ipython",
    "version": 3
   },
   "file_extension": ".py",
   "mimetype": "text/x-python",
   "name": "python",
   "nbconvert_exporter": "python",
   "pygments_lexer": "ipython3",
   "version": "3.6.4"
  }
 },
 "nbformat": 4,
 "nbformat_minor": 4
}
