{
 "cells": [
  {
   "cell_type": "markdown",
   "metadata": {},
   "source": [
    "## Extract barcodes from fastq file\n",
    "\n",
    "Generate list of barcodes and frequencies\n",
    "\n",
    "Save to csv"
   ]
  },
  {
   "cell_type": "code",
   "execution_count": 5,
   "metadata": {},
   "outputs": [],
   "source": [
    "import numpy as np\n",
    "import itertools\n",
    "import math\n",
    "import pandas as pd\n",
    "import time\n",
    "import Bio\n",
    "from Bio import SeqIO\n",
    "from Bio.Seq import Seq\n",
    "import matplotlib\n",
    "import matplotlib.pyplot as plt\n",
    "from ast import literal_eval\n",
    "import csv\n",
    "import venn\n",
    "from numpy import cov\n",
    "from scipy.stats import spearmanr, pearsonr\n",
    "from numpy import cov\n",
    "import seaborn as sns\n",
    "\n"
   ]
  },
  {
   "cell_type": "code",
   "execution_count": 13,
   "metadata": {},
   "outputs": [],
   "source": [
    "\n",
    "\n",
    "# This information has to be input manually\n",
    "# File names, barcode flank sequences\n",
    "\n",
    "SSFlank = 'GGTGGTGACC'\n",
    "\n",
    "# Data files\n",
    "np112418Data = 'NP1_S83_R1_001.fastq'\n",
    "np112419Data = 'NP1_S83_R2_001.fastq'\n",
    "\n",
    "listOfFiles = [np113001Data, np113001Data]\n",
    "listOfFileNames = ['NP_11_30_1_1', 'NP_11_30_1_2']\n",
    "listOfLibTypes = ['SS', 'SS']\n",
    "\n"
   ]
  },
  {
   "cell_type": "code",
   "execution_count": 15,
   "metadata": {},
   "outputs": [
    {
     "name": "stdout",
     "output_type": "stream",
     "text": [
      "NP_11_24_18\n",
      "0\n",
      "NP_11_24_19\n",
      "0\n"
     ]
    }
   ],
   "source": [
    "# Parse and extract barcode, make csv files for each one\n",
    "\n",
    "def parseAndExtractBC(file, libtype):\n",
    "    BCFlank = ''\n",
    "    if libtype == 'SS':\n",
    "        BCFlank = SSFlank\n",
    "    if libtype == 'SD':\n",
    "        BCFlank = SDFlank\n",
    "    if libtype == 'DS':\n",
    "        BCFlank = DSFlank\n",
    "    parsedFile = SeqIO.parse(file, \"fastq\")\n",
    "    BClist = []\n",
    "    \n",
    "    for readCount, rec in enumerate(parsedFile):\n",
    "        if readCount % 10000000 == 0:\n",
    "            print(readCount)\n",
    "        readSeq = str(rec.seq)\n",
    "        BCloc = readSeq.find(BCFlank)\n",
    "        if BCloc == -1:\n",
    "            BClist.append('No flank found')\n",
    "        else:\n",
    "            BC = readSeq[BCloc + len(BCFlank):BCloc + len(BCFlank) + 15]\n",
    "            if 'N' in BC:\n",
    "                BClist.append('BC has Ns')\n",
    "            else:\n",
    "                BClist.append(BC)\n",
    "    return BClist\n",
    "\n",
    "\n",
    "\n",
    "# These files can be big, save them on a drive if necessary\n",
    "for i, file in enumerate(listOfFiles):\n",
    "    print(listOfFileNames[i])\n",
    "    dfBClist = pd.DataFrame(parseAndExtractBC(file, listOfLibTypes[i]), columns = [listOfFileNames[i]])\n",
    "    dfBClist.to_csv(listOfFileNames[i] + '_BClist.csv')\n",
    "    \n",
    "# Collapse down to smaller list with reads per barcode measured\n",
    "\n",
    "for i, file in enumerate(listOfFiles):\n",
    "    dfBCs = pd.read_csv(listOfFileNames[i] + '_BClist.csv')\n",
    "    dfBCCounts = dfBCs[listOfFileNames[i]].value_counts()\n",
    "    dfBCCounts.to_csv(listOfFileNames[i] + '_BCCounts.csv', index = True)\n",
    "    \n",
    "    "
   ]
  },
  {
   "cell_type": "code",
   "execution_count": 16,
   "metadata": {},
   "outputs": [
    {
     "data": {
      "text/plain": [
       "ACAGATAATGACTGT    947795\n",
       "GCAATCAAAGATCTG    881232\n",
       "No flank found     113150\n",
       "GACCGCGGATACCAA     35863\n",
       "TGTATAATGGATCCA     15072\n",
       "                    ...  \n",
       "ATGACAAGCACGAAT         1\n",
       "CTCTGAACTCTCTAG         1\n",
       "TCAATACGATACCAG         1\n",
       "AAAGTGCACCTTCTC         1\n",
       "AATTGGATACCAATG         1\n",
       "Name: NP_11_24_19, Length: 207963, dtype: int64"
      ]
     },
     "execution_count": 16,
     "metadata": {},
     "output_type": "execute_result"
    }
   ],
   "source": [
    "dfBCCounts"
   ]
  },
  {
   "cell_type": "code",
   "execution_count": null,
   "metadata": {},
   "outputs": [],
   "source": []
  }
 ],
 "metadata": {
  "kernelspec": {
   "display_name": "Python 3",
   "language": "python",
   "name": "python3"
  },
  "language_info": {
   "codemirror_mode": {
    "name": "ipython",
    "version": 3
   },
   "file_extension": ".py",
   "mimetype": "text/x-python",
   "name": "python",
   "nbconvert_exporter": "python",
   "pygments_lexer": "ipython3",
   "version": "3.8.5"
  }
 },
 "nbformat": 4,
 "nbformat_minor": 2
}
